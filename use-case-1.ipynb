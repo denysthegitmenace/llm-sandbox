{
 "cells": [
  {
   "cell_type": "code",
   "execution_count": 21,
   "id": "29576b90-befb-45c3-a723-0c050a7a1e84",
   "metadata": {},
   "outputs": [],
   "source": [
    "from haystack.document_stores.in_memory import InMemoryDocumentStore\n",
    "from haystack.components.embedders import SentenceTransformersDocumentEmbedder\n",
    "from haystack.components.embedders import SentenceTransformersTextEmbedder\n",
    "from haystack.components.retrievers.in_memory import InMemoryEmbeddingRetriever\n",
    "from haystack.components.builders import PromptBuilder\n",
    "from haystack import Pipeline\n",
    "from haystack.components.routers import ConditionalRouter\n",
    "import xml.etree.ElementTree as ET\n",
    "\n",
    "\n",
    "import os\n",
    "from getpass import getpass\n",
    "from haystack_integrations.components.generators.amazon_bedrock import AmazonBedrockGenerator\n",
    "\n",
    "\n",
    "from datasets import load_dataset\n",
    "from haystack import Document\n",
    "from inputs import matrix, operational_management_skillset_explanation, NOTES_PER_EXERCISE"
   ]
  },
  {
   "cell_type": "code",
   "execution_count": 22,
   "id": "3dcec0a0-8ab5-4355-b098-7fe58082b185",
   "metadata": {},
   "outputs": [],
   "source": [
    "def generate_skill_xml_string(skill_name, skill_value, skill_description):\n",
    "    root = ET.Element(\"Skill\")\n",
    "    name = ET.SubElement(root, \"Name\")\n",
    "    name.text = sskill_name\n",
    "    value = ET.SubElement(root, \"Value\")\n",
    "    value.text = str(skill_value)    \n",
    "    description = ET.SubElement(root, \"Description\")\n",
    "    for item in skill_description:\n",
    "        point = ET.SubElement(description, \"Point\")\n",
    "        point.text = item\n",
    "    xml_str = ET.tostring(root, encoding='unicode', method='xml')\n",
    "    return xml_str"
   ]
  },
  {
   "cell_type": "code",
   "execution_count": 24,
   "id": "6da06335-0d89-47f0-9c8c-b94bc1f759a0",
   "metadata": {},
   "outputs": [],
   "source": [
    "skill_name = 'Kunden verstehen'\n",
    "skill_value = matrix[skill_name]\n",
    "skill_description = operational_management_skillset_explanation[skill_name]"
   ]
  },
  {
   "cell_type": "code",
   "execution_count": 25,
   "id": "ab89d8e0-edc1-460d-bab7-f96ad3c88e8c",
   "metadata": {},
   "outputs": [],
   "source": [
    "skill_xml_string = generate_skill_xml_string(skill_name, skill_value, skill_description)"
   ]
  },
  {
   "cell_type": "code",
   "execution_count": 26,
   "id": "8d20ff96-1be4-45db-9ae5-d92e5c6fcd87",
   "metadata": {},
   "outputs": [],
   "source": [
    "notes = \"\"\n",
    "for e in NOTES_PER_EXERCISE:\n",
    "    notes += e + \"\\n\"\n",
    "    notes += NOTES_PER_EXERCISE[e]"
   ]
  },
  {
   "cell_type": "code",
   "execution_count": 36,
   "id": "501e4115-a168-4e76-9cbf-fab679ce5212",
   "metadata": {},
   "outputs": [],
   "source": [
    "template = \"\"\"\n",
    "You are an expert HR consultant specializing in evaluating human psychology and behavior during candidate assessments. Your task is to analyze the alignment between qualitative observation notes and a quantitative skill evaluation for a job candidate.\n",
    "\n",
    "Context:\n",
    "- Observation Notes: Detailed qualitative observations from the assessment process\n",
    "- Numerical Skill Evaluation: A rating of the candidate's skills on a scale from 0 to 4\n",
    "  0 = Not observed/Not applicable\n",
    "  1 = Poor performance\n",
    "  2 = Good/Expected performance\n",
    "  3 = Very good performance\n",
    "  4 = Excellent performance\n",
    "- Skill Description: Detailed explanation of the skill's attributes and expectations\n",
    "\n",
    "Instructions:\n",
    "1. Carefully read the observation notes and skill description.\n",
    "2. For each attribute of the skill:\n",
    "   a. Identify specific notes that support or contradict the numerical rating.\n",
    "   b. Evaluate the strength and relevance of each piece of evidence.\n",
    "   c. Provide supporting and opposing evidence for every point of the skill, even if one type of evidence is weaker or less prevalent.\n",
    "3. Determine if the overall observations align with the provided numerical evaluation.\n",
    "4. Provide your analysis in the structured format below.\n",
    "\n",
    "Output Format:\n",
    "{\n",
    "  \"skill_name\": \"Name of the skill being evaluated\",\n",
    "  \"numerical_rating\": \"The provided numerical rating (0-4)\",\n",
    "  \"skill_attributes\": [\n",
    "    {\n",
    "      \"attribute\": \"Specific attribute of the skill\",\n",
    "      \"supporting_evidence\": [\n",
    "        {\n",
    "          \"citation\": \"Exact quote from observation notes\",\n",
    "          \"explanation\": \"Why this supports the rating\"\n",
    "        }\n",
    "      ],\n",
    "      \"opposing_evidence\": [\n",
    "        {\n",
    "          \"citation\": \"Exact quote from observation notes\",\n",
    "          \"explanation\": \"Why this contradicts the rating\"\n",
    "        }\n",
    "      ],\n",
    "      \"attribute_analysis\": \"Your assessment of how well the evidence aligns with the numerical rating for this specific attribute\"\n",
    "    }\n",
    "  ],\n",
    "  \"overall_analysis\": \"Your overall assessment of whether the observations align with the numerical rating, including any nuances or potential discrepancies across all attributes\",\n",
    "  \"confidence\": \"High/Medium/Low - Your level of confidence in this analysis based on the available evidence\"\n",
    "}\n",
    "\n",
    "Important:\n",
    "- Be objective and thorough in your analysis.\n",
    "- Consider the context and specific requirements of the skill.\n",
    "- If there's insufficient evidence to make a determination, state this clearly.\n",
    "\n",
    "Observation Notes:\n",
    "{{observation_notes}}\n",
    "\n",
    "Skill Description and Numerical Rating:\n",
    "{{skill}}\n",
    "\n",
    "Please provide your analysis based on the instructions and format above.\n",
    "\"\"\"\n",
    "promptbuilder = PromptBuilder(template)"
   ]
  },
  {
   "cell_type": "code",
   "execution_count": 37,
   "id": "7aac9176-ebcd-4dfd-bf5a-2a0d6eea6ac5",
   "metadata": {},
   "outputs": [],
   "source": [
    "generator = AmazonBedrockGenerator(model=\"anthropic.claude-3-5-sonnet-20240620-v1:0\", max_length=4000, truncate=False)"
   ]
  },
  {
   "cell_type": "code",
   "execution_count": 38,
   "id": "f967bbae-e820-44c4-b02f-c275009179d5",
   "metadata": {},
   "outputs": [
    {
     "data": {
      "text/plain": [
       "<haystack.core.pipeline.pipeline.Pipeline object at 0x29d0a73a0>\n",
       "🚅 Components\n",
       "  - prompt_builder: PromptBuilder\n",
       "  - generator: AmazonBedrockGenerator\n",
       "🛤️ Connections\n",
       "  - prompt_builder.prompt -> generator.prompt (str)"
      ]
     },
     "execution_count": 38,
     "metadata": {},
     "output_type": "execute_result"
    }
   ],
   "source": [
    "pipe = Pipeline()\n",
    "\n",
    "pipe.add_component(\"prompt_builder\", promptbuilder)\n",
    "pipe.add_component(\"generator\", generator)\n",
    "pipe.connect(\"prompt_builder\", \"generator\")"
   ]
  },
  {
   "cell_type": "code",
   "execution_count": 39,
   "id": "46b6179e-15bc-4e7d-9f66-abf4fc080460",
   "metadata": {},
   "outputs": [],
   "source": [
    "response = pipe.run(data={\"prompt_builder\": {\"observation_notes\": notes, \"skill\": skill_xml_string}})"
   ]
  },
  {
   "cell_type": "code",
   "execution_count": 35,
   "id": "bb226beb-f5f2-4d5b-bc98-606965b66671",
   "metadata": {},
   "outputs": [
    {
     "name": "stdout",
     "output_type": "stream",
     "text": [
      "{\n",
      "  \"skill_name\": \"Kunden verstehen\",\n",
      "  \"numerical_rating\": 3.5,\n",
      "  \"supporting_evidence\": [\n",
      "    {\n",
      "      \"citation\": \"Vermittelt eine hohe Kundenorientierung und bemisst den Erfolg seiner Vorhaben an den Kundenmehrwert sowie an der Kundenbindung\",\n",
      "      \"explanation\": \"This directly supports the skill of understanding customers and prioritizing customer value.\"\n",
      "    },\n",
      "    {\n",
      "      \"citation\": \"Fokussiert sich auf die Erfolgskommunikation und Prozessoptimierung, um den gestellten Business Case zu lösen\",\n",
      "      \"explanation\": \"This aligns with optimizing work processes to deliver better results for customers.\"\n",
      "    },\n",
      "    {\n",
      "      \"citation\": \"Zeigt grundsätzlich eine hohe Offenheit, mit verschiedenen Stakeholdern zu kommunizieren, um die Idee des Veränderungsvorhabens zunächst mit verschiedenen Parteien zu besprechen und dadurch Risiken abzubauen\",\n",
      "      \"explanation\": \"This demonstrates a proactive approach to understanding and addressing customer needs across different stakeholders.\"\n",
      "    }\n",
      "  ],\n",
      "  \"contradicting_evidence\": [\n",
      "    {\n",
      "      \"citation\": \"Kommt schnell zum Punkt und verpasst es dadurch, zunächst einen Rahmen zu setzen und das Publikum angemessen für das Thema aufzugleisen\",\n",
      "      \"explanation\": \"This could potentially contradict the aspect of sensitizing colleagues to customer needs, as it suggests a missed opportunity to fully engage the audience on customer-related topics.\"\n",
      "    }\n",
      "  ],\n",
      "  \"analysis\": \"The observations largely align with the high numerical rating of 3.5 for 'Kunden verstehen'. The candidate demonstrates a strong customer orientation, focusing on customer value and relationship building. They show a clear understanding of the importance of optimizing processes for better customer outcomes and are proactive in communicating with stakeholders to address customer needs. However, there is a minor area for improvement in how they frame and introduce customer-related topics to others, which slightly tempers the otherwise excellent performance in this skill. The candidate's approach to solving business cases with a customer-centric mindset and their ability to balance customer wishes with practical considerations further support the high rating.\",\n",
      "  \"confidence\": \"High\"\n",
      "}\n"
     ]
    }
   ],
   "source": [
    "print(response['generator']['replies'][0])"
   ]
  },
  {
   "cell_type": "code",
   "execution_count": null,
   "id": "4e77d5b9-543c-4519-a89c-96987a1a589a",
   "metadata": {},
   "outputs": [],
   "source": []
  }
 ],
 "metadata": {
  "kernelspec": {
   "display_name": "Python 3 (ipykernel)",
   "language": "python",
   "name": "python3"
  },
  "language_info": {
   "codemirror_mode": {
    "name": "ipython",
    "version": 3
   },
   "file_extension": ".py",
   "mimetype": "text/x-python",
   "name": "python",
   "nbconvert_exporter": "python",
   "pygments_lexer": "ipython3",
   "version": "3.10.9"
  }
 },
 "nbformat": 4,
 "nbformat_minor": 5
}
